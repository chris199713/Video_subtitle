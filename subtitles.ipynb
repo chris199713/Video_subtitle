{
 "cells": [
  {
   "cell_type": "markdown",
   "metadata": {},
   "source": [
    "# Import Dependencies"
   ]
  },
  {
   "cell_type": "code",
   "execution_count": null,
   "metadata": {},
   "outputs": [],
   "source": [
    "import whisper\n",
    "from translate import Translator\n",
    "import datetime"
   ]
  },
  {
   "cell_type": "markdown",
   "metadata": {},
   "source": [
    "# Transcribe"
   ]
  },
  {
   "cell_type": "code",
   "execution_count": null,
   "metadata": {},
   "outputs": [],
   "source": [
    "model = whisper.load_model('base')\n",
    "result  =  model.transcribe('interview_1_17_24.mp4')"
   ]
  },
  {
   "cell_type": "code",
   "execution_count": null,
   "metadata": {},
   "outputs": [],
   "source": [
    "for index, segment in enumerate(result['segments']):\n",
    "    print(segment)"
   ]
  },
  {
   "cell_type": "code",
   "execution_count": null,
   "metadata": {},
   "outputs": [],
   "source": [
    "transcribe_file = 'transcribe_file.txt'\n",
    "translate_file = 'translate_file.srt'"
   ]
  },
  {
   "cell_type": "markdown",
   "metadata": {},
   "source": [
    "# Translate"
   ]
  },
  {
   "cell_type": "code",
   "execution_count": null,
   "metadata": {},
   "outputs": [],
   "source": [
    "with open(transcribe_file,'w') as file:\n",
    "    for index, segment in enumerate(result['segments']):\n",
    "        file.write(str(index+1)+'\\n')\n",
    "        file.write(str(datetime.timedelta(seconds=segment['start'])) + ',000'  + ' --> ' + str(datetime.timedelta(seconds=segment['end']))  + ',000' +'\\n')\n",
    "        # file.write(str(datetime.timedelta(seconds=segment['start']) + datetime.timedelta(0,836)) + ',000'  + ' --> ' + str(datetime.timedelta(seconds=segment['end']) + datetime.timedelta(0,836))  + ',000' +'\\n')\n",
    "        file.write(segment['text'].strip()+'\\n')\n",
    "        file.write('\\n')"
   ]
  },
  {
   "cell_type": "code",
   "execution_count": null,
   "metadata": {},
   "outputs": [],
   "source": [
    "text = '老人'\n",
    "tran = Translator(from_lang=\"zh\",to_lang='en')\n",
    "translation = tran.translate(text)\n",
    "print(f'{translation}')"
   ]
  },
  {
   "cell_type": "code",
   "execution_count": null,
   "metadata": {},
   "outputs": [],
   "source": [
    "tran = Translator(from_lang=\"zh-TW\",to_lang='en')\n",
    "count = 2\n",
    "with open(translate_file,'w') as english_file:\n",
    "    with open(transcribe_file,'r') as chinese_file:\n",
    "        lines = chinese_file.readlines()\n",
    "        for index, segment in enumerate(result['segments']):\n",
    "            print(lines[count-1])\n",
    "            # print(lines[count])\n",
    "            line_to_translate = lines[count]\n",
    "            # print(index)\n",
    "            translation = tran.translate(line_to_translate)\n",
    "            # print(translation)\n",
    "            english_file.write(str(index+1)+'\\n')\n",
    "            english_file.write(lines[count-1]+'\\n')\n",
    "            # english_file.write(lines[count-1][:7] + ',000 ' + lines[count-1][7:10] + ' ' + lines[count-1][10:17] + ',000 '+'\\n')\n",
    "            english_file.write(translation.strip()+'\\n')\n",
    "            english_file.write('\\n')\n",
    "            count += 4\n",
    "            # if count < 10:\n",
    "            #     continue\n",
    "            # else:\n",
    "            #     break"
   ]
  },
  {
   "cell_type": "markdown",
   "metadata": {},
   "source": [
    "# Add subtitles to video"
   ]
  },
  {
   "cell_type": "code",
   "execution_count": null,
   "metadata": {},
   "outputs": [],
   "source": [
    "import sys\n",
    "import pysrt\n",
    "from moviepy.editor import VideoFileClip, TextClip, CompositeVideoClip\n",
    "\n",
    "\n",
    "def time_to_seconds(time_obj):\n",
    "    return time_obj.hours * 3600 + time_obj.minutes * 60 + time_obj.seconds + time_obj.milliseconds / 1000\n",
    "\n",
    "\n",
    "def create_subtitle_clips(subtitles, videosize,fontsize=24, font='Arial', color='yellow', debug = False):\n",
    "    subtitle_clips = []\n",
    "\n",
    "    for subtitle in subtitles:\n",
    "        # print(subtitle)\n",
    "        start_time = time_to_seconds(subtitle.start)\n",
    "        end_time = time_to_seconds(subtitle.end)\n",
    "        duration = end_time - start_time\n",
    "\n",
    "        video_width, video_height = videosize\n",
    "        \n",
    "        text_clip = TextClip(subtitle.text, fontsize=fontsize, font=font, color=color, bg_color = 'black',size=(video_width*3/4, None), method='caption').set_start(start_time).set_duration(duration)\n",
    "        subtitle_x_position = 'center'\n",
    "        subtitle_y_position = video_height* 4 / 5 \n",
    "\n",
    "        text_position = (subtitle_x_position, subtitle_y_position)                    \n",
    "        subtitle_clips.append(text_clip.set_position(text_position))\n",
    "\n",
    "    return subtitle_clips\n",
    "\n"
   ]
  },
  {
   "cell_type": "code",
   "execution_count": null,
   "metadata": {},
   "outputs": [],
   "source": [
    "# Load video and SRT file\n",
    "video = VideoFileClip(video_path)\n",
    "subtitles = pysrt.open(srt_path)\n",
    "\n",
    "begin,end= video_path.split(\".mp4\")\n",
    "output_video_file = begin+'_subtitled'+\".mp4\"\n",
    "\n",
    "print (\"Output file name: \",output_video_file)\n",
    "\n",
    "# Create subtitle clips\n",
    "subtitle_clips = create_subtitle_clips(subtitles,video.size)\n",
    "\n",
    "# Add subtitles to the video\n",
    "final_video = CompositeVideoClip([video] + subtitle_clips)\n",
    "\n",
    "# Write output video file\n",
    "final_video.write_videofile(output_video_file)\n"
   ]
  }
 ],
 "metadata": {
  "kernelspec": {
   "display_name": "tf2",
   "language": "python",
   "name": "python3"
  },
  "language_info": {
   "codemirror_mode": {
    "name": "ipython",
    "version": 3
   },
   "file_extension": ".py",
   "mimetype": "text/x-python",
   "name": "python",
   "nbconvert_exporter": "python",
   "pygments_lexer": "ipython3",
   "version": "3.9.18"
  }
 },
 "nbformat": 4,
 "nbformat_minor": 2
}
